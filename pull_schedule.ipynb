{
 "cells": [
  {
   "cell_type": "code",
   "execution_count": 11,
   "metadata": {},
   "outputs": [],
   "source": [
    "import json\n",
    "import urllib\n",
    "import pandas as pd\n",
    "from datetime import datetime\n",
    "def get_schedule(year):\n",
    "    url = \"http://site.api.espn.com/apis/site/v2/sports/football/college-football/scoreboard?dates={}\".format(year)\n",
    "    resp = urllib.request.urlopen(url)\n",
    "    txt = json.loads(resp.read())['leagues'][0]['calendar']\n",
    "#     print(len(txt))\n",
    "    reg = pd.DataFrame(txt[0]['entries'])\n",
    "    post = pd.DataFrame(txt[1]['entries'])\n",
    "#     offseason = pd.DataFrame(txt[2]['entries']) if (len(txt) > 2) else pd.DataFrame()\n",
    "    full_schedule = pd.concat([reg,post], ignore_index=True)\n",
    "    full_schedule['year']=year\n",
    "    full_schedule['daysForward'] = (pd.to_datetime(full_schedule['endDate'])-pd.to_datetime(full_schedule['startDate'])).dt.days+1\n",
    "    date = pd.to_datetime(pd.to_datetime(full_schedule['startDate']).dt.date,format='%Y-%m-%d')\n",
    "    full_schedule['str_startDate']=date.apply(lambda x: x.strftime('%Y%m%d'))\n",
    "    full_schedule['url']=\"http://site.api.espn.com/apis/site/v2/sports/football/college-football/scoreboard?dates=\"\n",
    "    full_schedule['url'] = full_schedule[['url','str_startDate']].apply(lambda x: \n",
    "                        ''.join(x),axis=1)\n",
    "    full_schedule['daysForward'] = full_schedule['daysForward'].apply(str)\n",
    "    full_schedule['url'] = full_schedule[['url','daysForward']].apply(lambda x: \n",
    "                        '&daysForward='.join(x),axis=1)\n",
    "    return (full_schedule)\n",
    "\n",
    "full_schedule = get_schedule(2018)\n",
    "pd.set_option('display.max_colwidth',None)\n",
    "full_schedule.to_json('2018_sched.json', orient='records')\n"
   ]
  },
  {
   "cell_type": "code",
   "execution_count": 12,
   "metadata": {},
   "outputs": [],
   "source": [
    "for x in range(2002,2021):\n",
    "    full_schedule = get_schedule(x)\n",
    "    full_schedule.to_json(f\"./frontend/cfb/schedules/{str(x)}.json\",orient='records')"
   ]
  },
  {
   "cell_type": "code",
   "execution_count": null,
   "metadata": {},
   "outputs": [],
   "source": []
  },
  {
   "cell_type": "code",
   "execution_count": null,
   "metadata": {},
   "outputs": [],
   "source": []
  }
 ],
 "metadata": {
  "kernelspec": {
   "display_name": "Python 3",
   "language": "python",
   "name": "python3"
  },
  "language_info": {
   "codemirror_mode": {
    "name": "ipython",
    "version": 3
   },
   "file_extension": ".py",
   "mimetype": "text/x-python",
   "name": "python",
   "nbconvert_exporter": "python",
   "pygments_lexer": "ipython3",
   "version": "3.7.7"
  }
 },
 "nbformat": 4,
 "nbformat_minor": 4
}
